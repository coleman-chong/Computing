{
  "nbformat": 4,
  "nbformat_minor": 0,
  "metadata": {
    "colab": {
      "name": "Hanan's Number_of_Occurrence_(2A).ipynb",
      "provenance": [],
      "collapsed_sections": []
    },
    "kernelspec": {
      "name": "python3",
      "display_name": "Python 3"
    },
    "language_info": {
      "name": "python"
    }
  },
  "cells": [
    {
      "cell_type": "markdown",
      "metadata": {
        "id": "gkEZv8Sf0N6m"
      },
      "source": [
        "# **Q1:  Find out the number of items sold in a store**\n",
        "# **Q2: Find out how many letters and numbers in a word**\n",
        "# **Q3: Find out how many senior, adults and children**\n",
        "# **Q4: Find the entrance fee to USS for each group of seniors, adults and children**\n",
        "\n",
        "\n",
        "The practices consist of codes that require the skills on\n",
        "\n",
        "1) finding the number of occurence in the inputs \n",
        "\n",
        "2) Converting the string to list\n",
        "\n",
        "3) Using \"for\" loop to search through the string\n",
        "\n",
        "4) Using \"for\" loop to search through a list"
      ]
    },
    {
      "cell_type": "markdown",
      "metadata": {
        "id": "DR6r_oj4269i"
      },
      "source": [
        "# **Q1: Find out the number of items sold in a store**\n",
        "\n",
        "\n",
        "A small store sells 10 items in a day. The categories of items include drinks, sandwiches and cakes. Each item sold is identified by a 3-digit code. The item codes which start with 0 are drinks category. Item codes which start with 1 are sandwiches category. Item codes which start with 2 are cakes category.\n",
        "\n",
        "Read through the file ITEMCATEGORIS.py below.\n",
        "\n",
        "Edit the program so that it:\n",
        "\n",
        "    (a) Accepts any number of items.\t\t\t\t\t\t\t[2]\n",
        "\n",
        "    (b) Prints out each category name and the number of items sold and also the items category. You may assume that there is only 1 category with the highest number of items sold.\t\t\t\t[4]\n",
        "\n",
        "    (c) Includes validations to test whether the item code entered is valid, and if not, asks the user for input again as necessary.    [3]\n"
      ]
    },
    {
      "cell_type": "code",
      "metadata": {
        "id": "MQ6A52U00Mnc",
        "colab": {
          "base_uri": "https://localhost:8080/"
        },
        "outputId": "3db9f92f-3de7-4440-8ebe-9f228b184f9e"
      },
      "source": [
        "drinks_category = 0\n",
        "sandwiches_category = 0\n",
        "cakes_category =0\n",
        "items = int(input(\"input the number of items\"))\n",
        "high=-1\n",
        "while items<0 or items>400:\n",
        "  items = int(input(\"input the number of items again \"))\n",
        "\n",
        "for i in range (items):\n",
        "\titem_string = input(\"Enter the item code \")\n",
        "\titem_code = int(item_string)\n",
        "\n",
        "\tif item_code < 100:\n",
        "\t\tdrinks_category = drinks_category + 1\n",
        "\telif item_code < 200:\n",
        "\t\tsandwiches_category = sandwiches_category + 1\n",
        "\telse :\n",
        "\t\tcakes_category = cakes_category + 1\n",
        "if cakes_category==drinks_category and drinks_category == sandwiches_category and sandwiches_category== cakes_category:\n",
        "    print(\"all the catogory are the same\")\n",
        "else:\n",
        "    if drinks_category>high:\n",
        "        high=drinks_category\n",
        "    if sandwiches_category>high:\n",
        "        high=sandwiches_category\n",
        "    if cakes_category>high:\n",
        "        high=cakes_category\n",
        "if drinks_category==high:\n",
        "      print(\"drinks category has the most with\",high)       \n",
        "elif sandwiches_category==high:\n",
        "      print(\"sandwiches category has the most with\",high)\n",
        "else:\n",
        "      print(\"cakes category has the most with\",high)\n",
        "\n",
        "\n",
        "print (\"The number of drinks, sandwiches and cakes sold are \", drinks_category, sandwiches_category, cakes_category)\n",
        "\n"
      ],
      "execution_count": null,
      "outputs": [
        {
          "output_type": "stream",
          "text": [
            "input the number of items3\n",
            "Enter the item code 000\n",
            "Enter the item code 200\n",
            "Enter the item code 100\n",
            "all the catogory are the same\n",
            "The number of drinks, sandwiches and cakes sold are  1 1 1\n"
          ],
          "name": "stdout"
        }
      ]
    },
    {
      "cell_type": "markdown",
      "metadata": {
        "id": "0tKiKr-3Ehg_"
      },
      "source": [
        "# **Q2: Find out how many letters and numbers in a word**\n",
        "\n",
        "The following program accepts 7 alphanumeric words from the user.  It find the number of digit in the word and show it to the user.\n",
        "\n",
        "Read through the program WORDCOUNTING.py.\n",
        "\n",
        "Edit the program so that it:\n",
        "\n",
        "    (a) allows any number of word     [2]\n",
        "    (b) counts the number of letter in the word  [2]\n",
        "    (c) checks whether is there any input from user. If the user input nothing, ask the user to input again  [3]\n",
        "\n",
        "\n"
      ]
    },
    {
      "cell_type": "code",
      "metadata": {
        "id": "_195GIUnF4hF",
        "colab": {
          "base_uri": "https://localhost:8080/"
        },
        "outputId": "aab8bc30-1658-481b-8d37-5ebac2349562"
      },
      "source": [
        "num_words = int(input(\"please input the number of words you would like to enter\"))\n",
        "num = 0\n",
        "let=0\n",
        "\n",
        "for i in range(num_words):\n",
        "  word = input(\"Enter an alphanumeric word: \")\n",
        "  while len(word)==0:\n",
        "    word = input(\"Enter an alphanumeric word again: \")\n",
        "\n",
        "  for ch in word:\n",
        "    if ch.isnumeric():\n",
        "      num = num + 1\n",
        "    elif ch.isalpha():\n",
        "      let+=1\n",
        "    \n",
        "\n",
        "  print(\"There are\" , num , \"digits in the word\")\n",
        "  print(\"And there are\",let,\"letters in the word\")\n",
        "  num = 0\n",
        "  let=0\n"
      ],
      "execution_count": null,
      "outputs": [
        {
          "output_type": "stream",
          "text": [
            "please input the number of words you would like to enter2\n",
            "Enter an alphanumeric word: james\n",
            "There are 0 digits in the word\n",
            "And there are 5 letters in the word\n",
            "Enter an alphanumeric word: 2323james\n",
            "There are 4 digits in the word\n",
            "And there are 5 letters in the word\n"
          ],
          "name": "stdout"
        }
      ]
    },
    {
      "cell_type": "markdown",
      "metadata": {
        "id": "kTFf_AQbMh8Z"
      },
      "source": [
        "# **Q3: Find out how many seniors, adults and children**\n",
        "\n",
        "Create a program which accepts the ages for 7 participants in an exhibition. The input is in the format of a,b,c,d,e,f,g.\n",
        "\n",
        "It prints out the number of seniors (>=60 years old), adults (>12 and <60 year old) and children (>=2 and <=12 year old).\n"
      ]
    },
    {
      "cell_type": "code",
      "metadata": {
        "id": "gd7FRLrXNmS3",
        "colab": {
          "base_uri": "https://localhost:8080/"
        },
        "outputId": "cc88d353-609d-47f8-fde1-1c09381b6690"
      },
      "source": [
        "sen=0\n",
        "adult=0\n",
        "ch=0\n",
        "ageA=int(input(\"A)please input your age: \"))\n",
        "if ageA>=60:\n",
        "  sen+=1\n",
        "elif ageA>12 and ageA<60:\n",
        "  adult+=1\n",
        "elif ageA>=2 and ageA<=12:\n",
        "  ch+=1\n",
        "ageB=int(input(\"B)please input your age: \"))\n",
        "if ageB>=60:\n",
        "  sen+=1\n",
        "elif ageB>12 and ageB<60:\n",
        "  adult+=1\n",
        "elif ageB>=2 and ageB<=12:\n",
        "  ch+=1\n",
        "ageC=int(input(\"C)please input your age: \"))\n",
        "if ageC>=60:\n",
        "  sen+=1\n",
        "elif ageC>12 and ageC<60:\n",
        "  adult+=1\n",
        "elif ageC>=2 and ageC<=12:\n",
        "  ch+=1\n",
        "ageD=int(input(\"D)please input your age: \"))\n",
        "if ageD>=60:\n",
        "  sen+=1\n",
        "elif ageD>12 and ageD<60:\n",
        "  adult+=1\n",
        "elif ageD>=2 and ageD<=12:\n",
        "  ch+=1\n",
        "ageE=int(input(\"E)please input your age: \"))\n",
        "if ageE>=60:\n",
        "  sen+=1\n",
        "elif ageE>12 and ageE<60:\n",
        "  adult+=1\n",
        "elif ageE>=2 and ageE<=12:\n",
        "  ch+=1\n",
        "ageF=int(input(\"F)please input your age: \"))\n",
        "if ageF>=60:\n",
        "  sen+=1\n",
        "elif ageF>12 and ageF<60:\n",
        "  adult+=1\n",
        "elif ageF>=2 and ageF<=12:\n",
        "  ch+=1\n",
        "ageG=int(input(\"G)please input your age: \"))\n",
        "if ageG>=60:\n",
        "  sen+=1\n",
        "elif ageG>12 and ageG<60:\n",
        "  adult+=1\n",
        "elif ageG>=2 and ageG<=12:\n",
        "  ch+=1\n",
        "print(\"number of seniors is\",sen)\n",
        "print(\"number of adults is\",adult)\n",
        "print(\"number of children is\",ch7)"
      ],
      "execution_count": null,
      "outputs": [
        {
          "output_type": "stream",
          "text": [
            "A)please input your age: 23\n",
            "B)please input your age: 134\n",
            "C)please input your age: 23\n",
            "D)please input your age: 45\n",
            "E)please input your age: 66\n",
            "F)please input your age: 77\n",
            "G)please input your age: 54\n",
            "number of seniors is 3\n",
            "number of adults is 4\n",
            "number of children is 0\n"
          ],
          "name": "stdout"
        }
      ]
    },
    {
      "cell_type": "markdown",
      "metadata": {
        "id": "uOs68wIwbYlo"
      },
      "source": [
        "# **Q4: Find the entrance fee to USS for each group of seniors, adults and children**\n",
        "\n",
        "Universal Studios Singapore (USS) determines the price of admission based on the age of the guest. \n",
        "\n",
        "*   infant = free\n",
        "*   children = $56.00\n",
        "\n",
        "*   adult = $76.00\n",
        "\n",
        "*   senior = $38.00\n",
        "\n",
        "\n",
        "You have been asked to write a program that helps USS calculate the admission fee for every tour group.\n",
        "\n",
        "Assuming that a tour guide bring five groups, each comprising of four guests who purchased tickets today, the program should allow you to:\n",
        "\n",
        "    (a) Enter data in the format a,b,c,d where a,b,c,d are the ages (in years) of the respective guests in the group. An example is 12,16,49,50\n",
        "    (b) Enter five groups of four into the program group by group\n",
        "    (c) Calculate the number of guests who entered USS from each of the categories: infants, children, adults and seniors\n",
        "    (d) Calculate the average age (rounded down to the nearest year) of guests for the entire tour group\n",
        "    (e) Calculate the admission fee for each of the categories: children, adults and seniors\n",
        "    (f) Calculate the total admission fee collected\n"
      ]
    },
    {
      "cell_type": "code",
      "metadata": {
        "id": "0smhUx645LDd",
        "colab": {
          "base_uri": "https://localhost:8080/"
        },
        "outputId": "6f73e898-a645-4549-c124-75dec97b474c"
      },
      "source": [
        "lst=[]\n",
        "adult=0\n",
        "ch=0\n",
        "sen=0\n",
        "inf=0\n",
        "total=0\n",
        "count=0\n",
        "feeS=0\n",
        "feeA=0\n",
        "feeC=0\n",
        "for i in range(5):\n",
        "  age=input(\"please input the ages separating with a ',': \")\n",
        "  lst=age.split(\",\")\n",
        "  for j in lst:\n",
        "    if int(j)>=60:\n",
        "      sen+=1\n",
        "    elif int(j)>12 and int(j)<60:\n",
        "      adult+=1\n",
        "    elif int(j)>=2 and int(j)<=12:\n",
        "      ch+=1\n",
        "    else:\n",
        "      inf+=1\n",
        "    total= total+int(j)\n",
        "    count+=1\n",
        "feeS= sen*38.00\n",
        "feeA=adult*76.00\n",
        "feeC=ch*56.00\n",
        "feeT=feeS+feeA+feeC\n",
        "print(\"the total admission fee for seniors is:\",feeS)\n",
        "print(\"the total admission fee for adult is:\",feeA)\n",
        "print(\"the total admission fee for children is:\",feeC)\n",
        "print(\"the total admission fee for all is:\",feeT)   \n",
        "\n",
        "  \n"
      ],
      "execution_count": null,
      "outputs": [
        {
          "output_type": "stream",
          "text": [
            "please input the ages separating with a ',': 12,11,23,67\n",
            "please input the ages separating with a ',': 12,11,23,67\n",
            "please input the ages separating with a ',': 12,11,23,67\n",
            "please input the ages separating with a ',': 12,11,23,67\n",
            "please input the ages separating with a ',': 12,11,23,67\n",
            "the total admission fee for seniors is: 190.0\n",
            "the total admission fee for adult is: 380.0\n",
            "the total admission fee for children is: 560.0\n",
            "the total admission fee for all is: 1130.0\n"
          ],
          "name": "stdout"
        }
      ]
    },
    {
      "cell_type": "markdown",
      "metadata": {
        "id": "y4X04Dk55Lx5"
      },
      "source": [
        "# **Optional: Find the salesman performance**\n",
        "\n",
        "A company employs salesmen to sell cars. The company operates on a 5-days week from Monday to Friday.  You have been asked to write a program to calculate the average number of cars sold per week by four salesmen. Each salesman may sell any number of cars in a day.\n",
        "\n",
        "The program should allow you to:\n",
        "\n",
        "    (a) Enter data in the format a, b, c, d, e where a, b, c, d, e are the number of cars sold by a salesman over the 5 days. An example is 2, 0, 3, 1, 1 where a Salesman sells 2 cars on Day 1 (Monday), 0 car on Day 2 (Tuesday), 3 cars on Day 3 (Wednesday), 1 car on Day 4 (Thursday) and 1 car on Day 5 (Friday).\n",
        "\n",
        "    (b) Only allow data entry of 0 or more cars.\n",
        "\n",
        "    (c) Calculate the total number of cars sold by each salesman.\n",
        "\n",
        "    (d) Repeat this for a total of 4 salesmen.\n",
        "\n",
        "    (e) Find the average number of cars sold by a salesman in the 5-days week rounded to the nearest whole number.\n",
        "\n",
        "    (f) Calculate the total number of cars sold for the 5-days week.\n",
        "\n",
        "    (g) Your display should look like this:\n",
        "        Salesman 1\t\t7 car(s)\t\t\n",
        "        Salesman 2\t\t9 car(s)\n",
        "        Salesman 3\t\t6 car(s)\t\n",
        "        Salesman 4\t\t5 car(s)\n",
        "\n",
        "        Average number of cars\t\t\t7 \n",
        "        Total number of cars for the week\t27\n",
        "\n"
      ]
    },
    {
      "cell_type": "code",
      "metadata": {
        "id": "KisE4CPf55RI",
        "colab": {
          "base_uri": "https://localhost:8080/"
        },
        "outputId": "cfea6dbe-232e-4541-f25b-b4d6cd0c6e18"
      },
      "source": [
        "lst=[]\n",
        "s1=0\n",
        "s2=0\n",
        "s3=0\n",
        "s4=0\n",
        "m=[s1,s2,s3,s4]\n",
        "count=0\n",
        "total=0\n",
        "\n",
        "for i in m:\n",
        "  car=input(\"please input the sales separating with a ',': \")\n",
        "  lst=car.split(\",\")\n",
        "  for j in lst:\n",
        "    o=int(j)\n",
        "    while o<0:\n",
        "      car=input(\"please input the sales again separating with a ',': \")\n",
        "      lst=car.split(\",\")\n",
        "      for j in lst:\n",
        "        o=int(j)\n",
        "        m[i]=m[i]+o\n",
        "  \n",
        "  total=total+o\n",
        "  count=count+1\n",
        "avg=total/count\n",
        "avgR=round(avg)\n",
        "print(\"Salesman 1   \",m[0])\n",
        "print(\"Salesman 2   \",m[1])\n",
        "print(\"Salesman 3   \",m[2])\n",
        "print(\"Salesman 4   \",m[3])\n",
        "print(\"Average number of cars    \",avgR)\n",
        "print(\"Total number of cars for the week   \",total)\n",
        "\n",
        "\n",
        "\n",
        "\n",
        "    \n",
        "      \n",
        "      \n",
        "  \n",
        "\n",
        "    \n",
        "\n"
      ],
      "execution_count": null,
      "outputs": [
        {
          "output_type": "stream",
          "text": [
            "please input the sales separating with a ',': 0,0,0,0,7\n",
            "please input the sales separating with a ',': 0,0,0,0,7\n",
            "please input the sales separating with a ',': 0,0,0,0,7\n",
            "please input the sales separating with a ',': 0,0,0,0,7\n",
            "Salesman 1    0\n",
            "Salesman 2    0\n",
            "Salesman 3    0\n",
            "Salesman 4    0\n",
            "Average number of cars     7\n",
            "Total number of cars for the week    28\n"
          ],
          "name": "stdout"
        }
      ]
    }
  ]
}